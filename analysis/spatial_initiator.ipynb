{
 "cells": [
  {
   "cell_type": "markdown",
   "metadata": {},
   "source": [
    "# Notes on analysis of spatiotemporal dyadic interactions\n",
    "\n",
    "## Who approaches who?\n",
    "Frequency interactions are associated with phases of spatiotemporal proximity.\n",
    "To understand, which of the two individuals is the approaching individual, we can compare the velocities of individuals during phases of decreasing distance. The individual that travels with a higher velocity, must be the approaching individual. The approacher is given by:\n",
    "\n",
    "$\n",
    "\\text{ID}_{appr.} =\n",
    "\\begin{cases}\n",
    "\\text{ID}_{1},&\\text{for} \\ v_1 > v_2, \\ \\frac{d}{dx} < 0\\\\[2ex]\n",
    "\\text{ID}_{2},&\\text{for} \\ v_2 > v_1, \\ \\frac{d}{dx} < 0\n",
    "\\end{cases}\n",
    "$\n",
    "\n",
    "Conversely, if the distance becomes larger, the individual with the greater velocity is a retreater:\n",
    "\n",
    "$\n",
    "\\text{ID}_{retr.} =\n",
    "\\begin{cases}\n",
    "\\text{ID}_{1},&\\text{for} \\ v_1 > v_2, \\ \\frac{d}{dx} > 0\\\\[2ex]\n",
    "\\text{ID}_{2},&\\text{for} \\ v_2 > v_1, \\ \\frac{d}{dx} > 0\n",
    "\\end{cases}\n",
    "$"
   ]
  },
  {
   "cell_type": "code",
   "execution_count": 1,
   "metadata": {},
   "outputs": [],
   "source": [
    "import numpy as np\n",
    "import matplotlib.pyplot as plt\n",
    "import gridtools as gt\n",
    "import pandas as pd\n",
    "from plotstyle import PlotStyle\n",
    "%matplotlib qt"
   ]
  },
  {
   "cell_type": "code",
   "execution_count": 2,
   "metadata": {},
   "outputs": [
    {
     "name": "stdout",
     "output_type": "stream",
     "text": [
      "\u001b[93m\u001b[1m[ GridTracks.__init__ ]\u001b[0m No grid metadata found in directory /home/weygoldt/Data/uni/efish/output/2016-04-20-18_49/\n"
     ]
    }
   ],
   "source": [
    "path = \"/home/weygoldt/Data/uni/efish/output/2016-04-20-18_49/\"\n",
    "grid = gt.GridTracks(path, finespec=False, verbose=False)\n",
    "events = pd.read_csv(path+\"events.csv\")\n",
    "idx = 8\n",
    "dyad = gt.Dyad(grid, [events.id1[idx], events.id2[idx]])\n",
    "\n",
    "v1 = gt.utils.velocity2d(dyad.times, dyad.xpos_smth_id1, dyad.ypos_smth_id1)\n",
    "v2 = gt.utils.velocity2d(dyad.times, dyad.xpos_smth_id2, dyad.ypos_smth_id2)"
   ]
  },
  {
   "cell_type": "code",
   "execution_count": 3,
   "metadata": {},
   "outputs": [
    {
     "data": {
      "text/plain": [
       "Text(0.5, 1.0, 'velocity id2')"
      ]
     },
     "execution_count": 3,
     "metadata": {},
     "output_type": "execute_result"
    }
   ],
   "source": [
    "ddpos = np.diff(dyad.dpos)/0.3\n",
    "\n",
    "fig, ax = plt.subplots(5,1, sharex=True)\n",
    "ax[0].plot(dyad.times, dyad.dfund)\n",
    "ax[1].plot(dyad.times, dyad.dpos)\n",
    "ax[2].plot(dyad.times[1:], ddpos)\n",
    "ax[2].axhline(0, color='black', linewidth=1, linestyle=\"dashed\")\n",
    "ax[3].plot(dyad.times, v1)\n",
    "ax[4].plot(dyad.times, v2)\n",
    "\n",
    "ax[0].set_title(\"frequency difference\")\n",
    "ax[1].set_title(\"spatial difference\")\n",
    "ax[2].set_title(\"relative velocity\")\n",
    "ax[3].set_title(\"velocity id1\")\n",
    "ax[4].set_title(\"velocity id2\")\n"
   ]
  },
  {
   "cell_type": "markdown",
   "metadata": {},
   "source": [
    "Compute relative velocity"
   ]
  },
  {
   "cell_type": "code",
   "execution_count": 4,
   "metadata": {},
   "outputs": [
    {
     "name": "stdout",
     "output_type": "stream",
     "text": [
      "Lenght relative veloc: 145075\n",
      "Lenght time: 145075\n"
     ]
    },
    {
     "data": {
      "text/plain": [
       "[<matplotlib.lines.Line2D at 0x7f7764143430>]"
      ]
     },
     "execution_count": 4,
     "metadata": {},
     "output_type": "execute_result"
    }
   ],
   "source": [
    "dt = np.array([x - x0 for x0, x in zip(dyad.times, dyad.times[2:])])\n",
    "dx = np.array([(x2 - x1) + (x1 - x0) for x0, x1, x2 in zip(dyad.dpos, dyad.dpos[1:], dyad.dpos[2:])])\n",
    "vr = dx/dt\n",
    "vr = gt.utils.nanpad(vr, position=\"center\", padlen=1)\n",
    "\n",
    "print(f\"Lenght relative veloc: {len(vr)}\")\n",
    "print(f\"Lenght time: {len(dyad.times)}\")\n",
    "plt.plot(dyad.times, vr)"
   ]
  },
  {
   "cell_type": "markdown",
   "metadata": {},
   "source": [
    "Extract phases of approaches and phases of retreats"
   ]
  },
  {
   "cell_type": "code",
   "execution_count": 5,
   "metadata": {},
   "outputs": [
    {
     "data": {
      "text/plain": [
       "(541.422119140625, 626.08447265625)"
      ]
     },
     "execution_count": 5,
     "metadata": {},
     "output_type": "execute_result"
    }
   ],
   "source": [
    "s = PlotStyle()\n",
    "ylims = s.lims(dyad.fund_id1, dyad.fund_id2)\n",
    "\n",
    "status1 = np.full(len(vr), np.nan, dtype=float)\n",
    "status2 = np.full(len(vr), np.nan, dtype=float)\n",
    "for i, a in enumerate(vr):\n",
    "    \n",
    "    # find retreats, where vr is positive (i.e. distance increases)\n",
    "    # if vr[i] > 0:\n",
    "    #     if v1[i] > v2[i]:\n",
    "    #         status1[i] = 0\n",
    "    #     elif v1[i] < v2[i]:\n",
    "    #         status2[i] = 0\n",
    "\n",
    "    # find approaches, where vr is negative (i.e. distance decreases)\n",
    "    if vr[i] < 0:\n",
    "        if v1[i] > v2[i]:\n",
    "            status1[i] = 1\n",
    "        elif v1[i] < v2[i]:\n",
    "            status2[i] = 1\n",
    "\n",
    "fig, ax1 = plt.subplots(sharex=True)\n",
    "\n",
    "ax1.plot(dyad.times, dyad.fund_id1)\n",
    "ax1.plot(dyad.times, dyad.fund_id2)\n",
    "ax1.plot(dyad.times, status1+(ylims[0]-4), \"|\", color=\"tab:blue\")\n",
    "ax1.plot(dyad.times, status2+(ylims[0]-4), \"|\", color=\"tab:orange\")\n",
    "ax1.set_ylim(ylims[0]-10, ylims[1]+2)\n"
   ]
  },
  {
   "cell_type": "code",
   "execution_count": 6,
   "metadata": {},
   "outputs": [
    {
     "data": {
      "text/plain": [
       "[<matplotlib.lines.Line2D at 0x7f773fd55060>]"
      ]
     },
     "execution_count": 6,
     "metadata": {},
     "output_type": "execute_result"
    }
   ],
   "source": [
    "# lets take a look at the proportion of approach points before and during the first 30s of the event\n",
    "start = gt.utils.find_closest(dyad.times, events.start[idx] - 30*dyad.times[1]-dyad.times[0])\n",
    "stop = gt.utils.find_closest(dyad.times, events.start[idx] + 30*dyad.times[1]-dyad.times[0])\n",
    "\n",
    "status1 = np.asarray(status1)\n",
    "status2 = np.asarray(status2)\n",
    "\n",
    "status1_eventstart = status1[start:stop]\n",
    "status2_eventstart = status2[start:stop]\n",
    "\n",
    "plt.plot(dyad.times[start:stop], dyad.fund_id1[start:stop])\n",
    "plt.plot(dyad.times[start:stop], dyad.fund_id2[start:stop])\n",
    "plt.plot(dyad.times[start:stop], status1_eventstart + 570, \"|\")\n",
    "plt.plot(dyad.times[start:stop], status2_eventstart + 570, \"|\")\n"
   ]
  },
  {
   "cell_type": "markdown",
   "metadata": {},
   "source": [
    "I have the feeling that this will not lead to any cool results because the phases change so fast and there is no clearly visual pattern to the changes of approacher and retreater during events. There could be some pattern, but it is not overly obvious. Maybe filtering or averaging over time or something else would make it more apparent but it looks to noisy to produce meaningful results. \n",
    "\n",
    "Lets try somethign else: \n",
    "Compute relative heading angle in degrees from the trajectories of the individuals. When heading angles polarize, there is most likely chasing going on. Important is the relative part: If both fish swim in the same direction (i.e. in a trajectory whith the same angle), they could also be swimming into the same direction next to each other. If we calculate the heading angle relative to the position of the other individual, this is not the case. Overall, I expect the relative trajectories to be randomly distributed. During events, they could become polarized or opposing each other, i.e. when they both swim towards each other.\n",
    "\n",
    "Why do we do this? We can count the number of chasing events during frequency modulations to interpret what the modulations mean. Maybe the number of chasing events changes during modulations, etc.\n",
    "\n",
    "the trajectory at point t is given by \n",
    "\n",
    "$\\newcommand\\mycolv[1]{\\begin{bmatrix}#1\\end{bmatrix}}\n",
    "t_{1} = \\mycolv{x_{t+1}\\\\y_{t+1}} - \\mycolv{x_t\\\\y_t}\n",
    "$\n",
    "\n",
    "the angle between fish1 and fish3 is\n",
    "\n",
    "$\n",
    "\\alpha = \\tan^{-1}{\\frac{y_{fish2}-y_{fish1}}{x_{fish2}-x_{fish1}}}\n",
    "$\n",
    "\n",
    "Now that we have the angle between the fish, we can calculate the relative angle of the trajectory of fish1 to the position of fish2. For this, we just take the angle of the trajectory and subtract it from the angle to the other fish.\n",
    "\n",
    "$\n",
    "\\beta = \\tan^{-1}{\\frac{y_{t+1}-y_{t}}{x_{t+1}-x_{t}}}\n",
    "$\n",
    "\n",
    "$\n",
    "\\beta_{rel} = \\alpha - \\beta\n",
    "$"
   ]
  },
  {
   "cell_type": "code",
   "execution_count": 7,
   "metadata": {},
   "outputs": [
    {
     "ename": "IndexError",
     "evalue": "index 145074 is out of bounds for axis 0 with size 145074",
     "output_type": "error",
     "traceback": [
      "\u001b[0;31m---------------------------------------------------------------------------\u001b[0m",
      "\u001b[0;31mIndexError\u001b[0m                                Traceback (most recent call last)",
      "\u001b[1;32m/home/weygoldt/Data/uni/efish/code/spatial_initiator.ipynb Cell 11\u001b[0m in \u001b[0;36m<cell line: 57>\u001b[0;34m()\u001b[0m\n\u001b[1;32m     <a href='vscode-notebook-cell:/home/weygoldt/Data/uni/efish/code/spatial_initiator.ipynb#X13sZmlsZQ%3D%3D?line=53'>54</a>\u001b[0m     rangles \u001b[39m=\u001b[39m gt\u001b[39m.\u001b[39mutils\u001b[39m.\u001b[39mnanpad(rangles, position\u001b[39m=\u001b[39m\u001b[39m\"\u001b[39m\u001b[39mright\u001b[39m\u001b[39m\"\u001b[39m, padlen\u001b[39m=\u001b[39m\u001b[39m1\u001b[39m)\n\u001b[1;32m     <a href='vscode-notebook-cell:/home/weygoldt/Data/uni/efish/code/spatial_initiator.ipynb#X13sZmlsZQ%3D%3D?line=54'>55</a>\u001b[0m     \u001b[39mreturn\u001b[39;00m rangles\n\u001b[0;32m---> <a href='vscode-notebook-cell:/home/weygoldt/Data/uni/efish/code/spatial_initiator.ipynb#X13sZmlsZQ%3D%3D?line=56'>57</a>\u001b[0m rangels1 \u001b[39m=\u001b[39m rel_angles(dyad, \u001b[39m\"\u001b[39;49m\u001b[39mup\u001b[39;49m\u001b[39m\"\u001b[39;49m)\n\u001b[1;32m     <a href='vscode-notebook-cell:/home/weygoldt/Data/uni/efish/code/spatial_initiator.ipynb#X13sZmlsZQ%3D%3D?line=57'>58</a>\u001b[0m rangels2 \u001b[39m=\u001b[39m rel_angles(dyad, \u001b[39m\"\u001b[39m\u001b[39mdown\u001b[39m\u001b[39m\"\u001b[39m)\n\u001b[1;32m     <a href='vscode-notebook-cell:/home/weygoldt/Data/uni/efish/code/spatial_initiator.ipynb#X13sZmlsZQ%3D%3D?line=59'>60</a>\u001b[0m fig, ax \u001b[39m=\u001b[39m plt\u001b[39m.\u001b[39msubplots(\u001b[39m2\u001b[39m,\u001b[39m1\u001b[39m, sharex\u001b[39m=\u001b[39m\u001b[39mTrue\u001b[39;00m)\n",
      "\u001b[1;32m/home/weygoldt/Data/uni/efish/code/spatial_initiator.ipynb Cell 11\u001b[0m in \u001b[0;36mrel_angles\u001b[0;34m(dyad, direction)\u001b[0m\n\u001b[1;32m     <a href='vscode-notebook-cell:/home/weygoldt/Data/uni/efish/code/spatial_initiator.ipynb#X13sZmlsZQ%3D%3D?line=30'>31</a>\u001b[0m     a \u001b[39m=\u001b[39m math\u001b[39m.\u001b[39mdegrees(math\u001b[39m.\u001b[39matan2(dy, dx)) \u001b[39m# angle between fish 1 and fish 2\u001b[39;00m\n\u001b[1;32m     <a href='vscode-notebook-cell:/home/weygoldt/Data/uni/efish/code/spatial_initiator.ipynb#X13sZmlsZQ%3D%3D?line=32'>33</a>\u001b[0m \u001b[39m# angle of trajectory:\u001b[39;00m\n\u001b[0;32m---> <a href='vscode-notebook-cell:/home/weygoldt/Data/uni/efish/code/spatial_initiator.ipynb#X13sZmlsZQ%3D%3D?line=33'>34</a>\u001b[0m ty \u001b[39m=\u001b[39m ys1[i\u001b[39m+\u001b[39;49m\u001b[39m1\u001b[39;49m] \u001b[39m-\u001b[39m y\n\u001b[1;32m     <a href='vscode-notebook-cell:/home/weygoldt/Data/uni/efish/code/spatial_initiator.ipynb#X13sZmlsZQ%3D%3D?line=34'>35</a>\u001b[0m tx \u001b[39m=\u001b[39m xs1[i\u001b[39m+\u001b[39m\u001b[39m1\u001b[39m] \u001b[39m-\u001b[39m x\n\u001b[1;32m     <a href='vscode-notebook-cell:/home/weygoldt/Data/uni/efish/code/spatial_initiator.ipynb#X13sZmlsZQ%3D%3D?line=35'>36</a>\u001b[0m b \u001b[39m=\u001b[39m math\u001b[39m.\u001b[39mdegrees(math\u001b[39m.\u001b[39matan2(ty, tx))\n",
      "\u001b[0;31mIndexError\u001b[0m: index 145074 is out of bounds for axis 0 with size 145074"
     ]
    }
   ],
   "source": [
    "import math\n",
    "\n",
    "# keep in mind that atan is in radians!\n",
    "\n",
    "def rel_angles(dyad, direction):\n",
    "    if direction == \"up\":\n",
    "        xs1 = dyad.xpos_smth_id1[:-1]\n",
    "        ys1 = dyad.xpos_smth_id1[:-1]\n",
    "        xs2 = dyad.xpos_smth_id2[:-1]\n",
    "        ys2 = dyad.xpos_smth_id2[:-1]\n",
    "    elif direction == \"down\":\n",
    "        xs1 = dyad.xpos_smth_id2[:-1]\n",
    "        ys1 = dyad.xpos_smth_id2[:-1]\n",
    "        xs2 = dyad.xpos_smth_id1[:-1]\n",
    "        ys2 = dyad.xpos_smth_id2[:-1]\n",
    "\n",
    "    angles = [] # absolute angles between individuals\n",
    "    tangles = [] # angle of id1 trajectory\n",
    "    rangles = [] # relative angles between individuals\n",
    "\n",
    "    for i, (x, y) in enumerate(zip(xs1, ys1)):\n",
    "        \n",
    "        # angle between:\n",
    "        if direction == \"up\":\n",
    "            dy = dyad.xpos_smth_id2[i+1] - y\n",
    "            dx = dyad.xpos_smth_id2[i+1] - x\n",
    "            a = math.degrees(math.atan2(dy, dx)) # angle between fish 1 and fish 2\n",
    "        elif direction == \"down\":\n",
    "            dy = dyad.xpos_smth_id1[i+1] - y\n",
    "            dx = dyad.xpos_smth_id2[i+1] - x\n",
    "            a = math.degrees(math.atan2(dy, dx)) # angle between fish 1 and fish 2\n",
    "\n",
    "        # angle of trajectory:\n",
    "        ty = ys1[i+1] - y\n",
    "        tx = xs1[i+1] - x\n",
    "        b = math.degrees(math.atan2(ty, tx))\n",
    "\n",
    "        if a < 0:\n",
    "            a = 360 + a\n",
    "        if b < 0:\n",
    "            b = 360 + b\n",
    "\n",
    "        # relative angle\n",
    "        brel = a - b\n",
    "\n",
    "        if brel < 0:\n",
    "            brel = 360 + brel\n",
    "\n",
    "        # save\n",
    "        angles.append(a)\n",
    "        tangles.append(b)\n",
    "        rangles.append(brel)\n",
    "\n",
    "    rangles = gt.utils.nanpad(rangles, position=\"right\", padlen=1)\n",
    "    return rangles\n",
    "\n",
    "rangels1 = rel_angles(dyad, \"up\")\n",
    "rangels2 = rel_angles(dyad, \"down\")\n",
    "\n",
    "fig, ax = plt.subplots(2,1, sharex=True)\n",
    "ax[0].plot(dyad.times, dyad.fund_id1)\n",
    "ax[0].plot(dyad.times, dyad.fund_id2)\n",
    "ax[1].plot(dyad.times, rangles_12)\n",
    "\n",
    "\n",
    "    "
   ]
  },
  {
   "cell_type": "code",
   "execution_count": null,
   "metadata": {},
   "outputs": [
    {
     "ename": "NameError",
     "evalue": "name 'rangles1' is not defined",
     "output_type": "error",
     "traceback": [
      "\u001b[0;31m---------------------------------------------------------------------------\u001b[0m",
      "\u001b[0;31mNameError\u001b[0m                                 Traceback (most recent call last)",
      "\u001b[1;32m/home/weygoldt/Data/uni/efish/code/spatial_initiator.ipynb Cell 11'\u001b[0m in \u001b[0;36m<cell line: 8>\u001b[0;34m()\u001b[0m\n\u001b[1;32m      <a href='vscode-notebook-cell:/home/weygoldt/Data/uni/efish/code/spatial_initiator.ipynb#ch0000010?line=1'>2</a>\u001b[0m stop \u001b[39m=\u001b[39m gt\u001b[39m.\u001b[39mutils\u001b[39m.\u001b[39mfind_closest(dyad\u001b[39m.\u001b[39mtimes, \u001b[39m25975\u001b[39m)\n\u001b[1;32m      <a href='vscode-notebook-cell:/home/weygoldt/Data/uni/efish/code/spatial_initiator.ipynb#ch0000010?line=2'>3</a>\u001b[0m \u001b[39m#boolean = status1[start:stop]\u001b[39;00m\n\u001b[1;32m      <a href='vscode-notebook-cell:/home/weygoldt/Data/uni/efish/code/spatial_initiator.ipynb#ch0000010?line=3'>4</a>\u001b[0m \u001b[39m#boolean = status1\u001b[39;00m\n\u001b[1;32m      <a href='vscode-notebook-cell:/home/weygoldt/Data/uni/efish/code/spatial_initiator.ipynb#ch0000010?line=4'>5</a>\u001b[0m \u001b[39m#boolean[np.isnan(boolean)] = 0\u001b[39;00m\n\u001b[1;32m      <a href='vscode-notebook-cell:/home/weygoldt/Data/uni/efish/code/spatial_initiator.ipynb#ch0000010?line=5'>6</a>\u001b[0m \u001b[39m#boolean = boolean.astype(dtype=bool)\u001b[39;00m\n\u001b[0;32m----> <a href='vscode-notebook-cell:/home/weygoldt/Data/uni/efish/code/spatial_initiator.ipynb#ch0000010?line=7'>8</a>\u001b[0m event_rangles1 \u001b[39m=\u001b[39m rangles1[start:stop]\n\u001b[1;32m      <a href='vscode-notebook-cell:/home/weygoldt/Data/uni/efish/code/spatial_initiator.ipynb#ch0000010?line=8'>9</a>\u001b[0m event_rangles2 \u001b[39m=\u001b[39m rangles2[start:stop]\n\u001b[1;32m     <a href='vscode-notebook-cell:/home/weygoldt/Data/uni/efish/code/spatial_initiator.ipynb#ch0000010?line=9'>10</a>\u001b[0m \u001b[39m#event_rangles_12 = rangles_12\u001b[39;00m\n\u001b[1;32m     <a href='vscode-notebook-cell:/home/weygoldt/Data/uni/efish/code/spatial_initiator.ipynb#ch0000010?line=10'>11</a>\u001b[0m \u001b[39m#event_rangles_12 = event_rangles_12[boolean]\u001b[39;00m\n",
      "\u001b[0;31mNameError\u001b[0m: name 'rangles1' is not defined"
     ]
    }
   ],
   "source": [
    "start = gt.utils.find_closest(dyad.times, 25675)\n",
    "stop = gt.utils.find_closest(dyad.times, 25975)\n",
    "#boolean = status1[start:stop]\n",
    "#boolean = status1\n",
    "#boolean[np.isnan(boolean)] = 0\n",
    "#boolean = boolean.astype(dtype=bool)\n",
    "\n",
    "event_rangles1 = rangles1[start:stop]\n",
    "event_rangles2 = rangles2[start:stop]\n",
    "#event_rangles_12 = rangles_12\n",
    "#event_rangles_12 = event_rangles_12[boolean]\n",
    "distribution1 = np.histogram(event_rangles1,bins=60, range=(0,360))[0]\n",
    "distribution2 = np.histogram(event_rangles2,bins=60, range=(0,360))[0]\n",
    "theta = np.linspace(0,360,60, endpoint=False)\n",
    "\n",
    "f = plt.figure()\n",
    "ax = f.add_subplot(polar=True)\n",
    "ax.set_theta_zero_location('N'); ax.set_theta_direction(-1)\n",
    "ax.set_ylim(-6,35)\n",
    "ax.bar(theta, distribution, edgecolor=\"black\", width = 2*np.pi / 60)"
   ]
  },
  {
   "cell_type": "code",
   "execution_count": null,
   "metadata": {},
   "outputs": [
    {
     "data": {
      "text/plain": [
       "[<matplotlib.lines.Line2D at 0x7ff7441e45b0>]"
      ]
     },
     "execution_count": 8,
     "metadata": {},
     "output_type": "execute_result"
    }
   ],
   "source": [
    "plt.plot(dyad.xpos_smth_id1[start:stop], dyad.ypos_smth_id1[start:stop])\n",
    "plt.plot(dyad.xpos_smth_id2[start:stop], dyad.ypos_smth_id2[start:stop])"
   ]
  },
  {
   "cell_type": "code",
   "execution_count": null,
   "metadata": {},
   "outputs": [
    {
     "name": "stdout",
     "output_type": "stream",
     "text": [
      "33481\n",
      "145075\n"
     ]
    }
   ],
   "source": [
    "print(len(event_rangles_12))\n",
    "print(len(boolean))"
   ]
  },
  {
   "cell_type": "code",
   "execution_count": null,
   "metadata": {},
   "outputs": [],
   "source": []
  }
 ],
 "metadata": {
  "kernelspec": {
   "display_name": "Python 3.10.5 ('env': venv)",
   "language": "python",
   "name": "python3"
  },
  "language_info": {
   "codemirror_mode": {
    "name": "ipython",
    "version": 3
   },
   "file_extension": ".py",
   "mimetype": "text/x-python",
   "name": "python",
   "nbconvert_exporter": "python",
   "pygments_lexer": "ipython3",
   "version": "3.10.5"
  },
  "orig_nbformat": 4,
  "vscode": {
   "interpreter": {
    "hash": "fc22036bd5413fbeea744e8aabe54594d1863936e7bd1686ce73b6aa81314412"
   }
  }
 },
 "nbformat": 4,
 "nbformat_minor": 2
}

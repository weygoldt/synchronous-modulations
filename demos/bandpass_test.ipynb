{
 "cells": [
  {
   "cell_type": "code",
   "execution_count": 1,
   "metadata": {},
   "outputs": [],
   "source": [
    "import numpy as np\n",
    "import matplotlib.pyplot as plt\n",
    "import gridtools as gt\n",
    "import functions as fs\n",
    "%matplotlib qt"
   ]
  },
  {
   "cell_type": "code",
   "execution_count": 2,
   "metadata": {},
   "outputs": [
    {
     "name": "stdout",
     "output_type": "stream",
     "text": [
      "\u001b[93m\u001b[1m[ GridTracks.__init__ ]\u001b[0m No grid metadata found in directory /home/weygoldt/Data/uni/efish/output/2016-04-18-19_22/\n"
     ]
    }
   ],
   "source": [
    "path = '/home/weygoldt/Data/uni/efish/output/2016-04-18-19_22/'\n",
    "grid = gt.GridTracks(path)\n",
    "grid.q10_norm()"
   ]
  },
  {
   "cell_type": "code",
   "execution_count": 3,
   "metadata": {},
   "outputs": [
    {
     "name": "stdout",
     "output_type": "stream",
     "text": [
      "\u001b[92m\u001b[1m[ GridTracks.plot_frequencies ] \u001b[0m Plotting frequency tracks ...\n",
      "\u001b[92m\u001b[1m[ GridTracks.freq_bandpass ]\u001b[0m Applying bandpass filter ...\n",
      "computed AreaUnderCurve (AUC) of KDE using sklearn.metrics.auc: 0.9752349514478006\n",
      "computed AreaUnderCurve (AUC) of KDE using sklearn.metrics.auc: 0.9957238358048683\n",
      "computed AreaUnderCurve (AUC) of KDE using sklearn.metrics.auc: 0.9942345376015667\n",
      "computed AreaUnderCurve (AUC) of KDE using sklearn.metrics.auc: 0.9841471523517034\n",
      "computed AreaUnderCurve (AUC) of KDE using sklearn.metrics.auc: 0.9879957508124491\n",
      "\u001b[92m\u001b[1m[ GridTracks.plot_frequencies ] \u001b[0m Plotting frequency tracks ...\n"
     ]
    },
    {
     "data": {
      "text/plain": [
       "<AxesSubplot:>"
      ]
     },
     "execution_count": 3,
     "metadata": {},
     "output_type": "execute_result"
    }
   ],
   "source": [
    "fig, (ax1,ax2) = plt.subplots(2,1, figsize = (18,12), sharex=True, sharey=True)\n",
    "grid.plot_freq(ax1)\n",
    "\n",
    "grid.freq_bandpass(\n",
    "    3, 0.00004, 0.4, 2, True\n",
    ")\n",
    "\n",
    "grid.plot_freq(ax2)"
   ]
  }
 ],
 "metadata": {
  "kernelspec": {
   "display_name": "Python 3.10.5 ('env')",
   "language": "python",
   "name": "python3"
  },
  "language_info": {
   "codemirror_mode": {
    "name": "ipython",
    "version": 3
   },
   "file_extension": ".py",
   "mimetype": "text/x-python",
   "name": "python",
   "nbconvert_exporter": "python",
   "pygments_lexer": "ipython3",
   "version": "3.10.5"
  },
  "orig_nbformat": 4,
  "vscode": {
   "interpreter": {
    "hash": "c0749abf25d488e9568f5f03969c39a841693372d942c20c6b490e16fa526ccf"
   }
  }
 },
 "nbformat": 4,
 "nbformat_minor": 2
}
